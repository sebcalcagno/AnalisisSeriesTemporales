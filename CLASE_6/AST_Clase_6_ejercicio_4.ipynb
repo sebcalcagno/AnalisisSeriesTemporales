{
  "nbformat": 4,
  "nbformat_minor": 0,
  "metadata": {
    "colab": {
      "provenance": [],
      "collapsed_sections": [],
      "authorship_tag": "ABX9TyOXBdmVtQzxLyr28T3iGJcp",
      "include_colab_link": true
    },
    "kernelspec": {
      "name": "python3",
      "display_name": "Python 3"
    },
    "language_info": {
      "name": "python"
    }
  },
  "cells": [
    {
      "cell_type": "markdown",
      "metadata": {
        "id": "view-in-github",
        "colab_type": "text"
      },
      "source": [
        "<a href=\"https://colab.research.google.com/github/sebcalcagno/AnalisisSeriesTemporales/blob/main/CLASE_6/AST_Clase_6_ejercicio_4.ipynb\" target=\"_parent\"><img src=\"https://colab.research.google.com/assets/colab-badge.svg\" alt=\"Open In Colab\"/></a>"
      ]
    },
    {
      "cell_type": "markdown",
      "source": [
        "Modelos ADL (Autoregressive Distributed Lag) = Los regresores pueden incluir valores retrasados ​​de la variable dependiente y valores actuales y retrasados ​​de una o más variables explicativas. "
      ],
      "metadata": {
        "id": "MWlcuID_E2Ex"
      }
    },
    {
      "cell_type": "code",
      "execution_count": null,
      "metadata": {
        "id": "BR3-0CtDlaNr",
        "colab": {
          "base_uri": "https://localhost:8080/"
        },
        "outputId": "60ed17c2-6c14-476a-96e5-ea7047116c8f"
      },
      "outputs": [
        {
          "output_type": "stream",
          "name": "stderr",
          "text": [
            "/usr/local/lib/python3.7/dist-packages/statsmodels/tools/_testing.py:19: FutureWarning: pandas.util.testing is deprecated. Use the functions in the public API at pandas.testing instead.\n",
            "  import pandas.util.testing as tm\n"
          ]
        }
      ],
      "source": [
        "# Importar los módulos necesarios para la generación de datos\n",
        "import numpy as np\n",
        "\n",
        "#Importe los módulos necesarios para la creación de gráficos:\n",
        "import matplotlib.pyplot as plt\n",
        "\n",
        "#Importe los módulos requeridos para la creación de DataFrame:\n",
        "import pandas as pd\n",
        "\n",
        "#Importar los módulos necesarios para la generación de datos de TimeSeries:\n",
        "import statsmodels.api as sm\n",
        "\n",
        "#Importar los módulos requeridos para el cálculo de estadísticas de prueba:\n",
        "import statsmodels.stats as sm_stat\n",
        "\n",
        "#Importe los módulos necesarios para la estimación del modelo:\n",
        "import statsmodels.tsa as smt\n",
        "\n",
        "#Importe los módulos necesarios para la optimización\n",
        "import scipy.optimize as optimize\n",
        "\n",
        "#También necesitamos datos adicionales:\n",
        "import statsmodels.formula.api as smf"
      ]
    },
    {
      "cell_type": "code",
      "source": [
        "url='https://raw.githubusercontent.com/sebcalcagno/AnalisisSeriesTemporales/main/serie-tiempo-indicadores-mensuales-bovinos.csv'\n",
        "\n",
        "serie = pd.read_csv(url, index_col='indice_tiempo', parse_dates=True)\n",
        "\n",
        "serie = serie.asfreq('MS') # Frecuencia mensual"
      ],
      "metadata": {
        "id": "owCDy75izygI"
      },
      "execution_count": null,
      "outputs": []
    },
    {
      "cell_type": "code",
      "source": [
        "serie.head()"
      ],
      "metadata": {
        "colab": {
          "base_uri": "https://localhost:8080/",
          "height": 301
        },
        "id": "S0CzElvw0ErB",
        "outputId": "5c62bbd0-3bfe-40d4-f6df-a8bf2294c78d"
      },
      "execution_count": null,
      "outputs": [
        {
          "output_type": "execute_result",
          "data": {
            "text/plain": [
              "               faena_total_pais  porcentaje_hembras  \\\n",
              "indice_tiempo                                         \n",
              "1998-01-01               981503               41.82   \n",
              "1998-02-01               889530               43.02   \n",
              "1998-03-01               992968               43.24   \n",
              "1998-04-01               936164               42.03   \n",
              "1998-05-01               912879               42.83   \n",
              "\n",
              "               produccion_en_miles_de_toneladas_res_con_hueso  \\\n",
              "indice_tiempo                                                   \n",
              "1998-01-01                                             215.20   \n",
              "1998-02-01                                             191.89   \n",
              "1998-03-01                                             211.44   \n",
              "1998-04-01                                             200.01   \n",
              "1998-05-01                                             193.45   \n",
              "\n",
              "               peso_promedio_res  novillos_precio_kilo_vivo_pesos  \\\n",
              "indice_tiempo                                                       \n",
              "1998-01-01                219.25                             1.00   \n",
              "1998-02-01                215.72                             1.07   \n",
              "1998-03-01                212.94                             1.09   \n",
              "1998-04-01                213.65                             1.11   \n",
              "1998-05-01                211.91                             1.14   \n",
              "\n",
              "               novillo_precio_kilo_vivo_dolares  novillos_peso_kilo_vivo  \\\n",
              "indice_tiempo                                                              \n",
              "1998-01-01                                 1.00                    448.0   \n",
              "1998-02-01                                 1.07                    447.0   \n",
              "1998-03-01                                 1.09                    441.0   \n",
              "1998-04-01                                 1.11                    441.0   \n",
              "1998-05-01                                 1.14                    440.0   \n",
              "\n",
              "               consumo_interno_aparente_en_miles_de_toneladas_res_c_hueso  \\\n",
              "indice_tiempo                                                               \n",
              "1998-01-01                                                191.23            \n",
              "1998-02-01                                                169.56            \n",
              "1998-03-01                                                190.18            \n",
              "1998-04-01                                                176.69            \n",
              "1998-05-01                                                174.36            \n",
              "\n",
              "               consumo_interno_per_capita_kg_por_habitante  \\\n",
              "indice_tiempo                                                \n",
              "1998-01-01                                           62.79   \n",
              "1998-02-01                                           61.58   \n",
              "1998-03-01                                           62.32   \n",
              "1998-04-01                                           59.78   \n",
              "1998-05-01                                           57.04   \n",
              "\n",
              "               consumo_interno_per_capita_kg_por_habitante_por_anio  \\\n",
              "indice_tiempo                                                         \n",
              "1998-01-01                                                 64.11      \n",
              "1998-02-01                                                 63.85      \n",
              "1998-03-01                                                 63.80      \n",
              "1998-04-01                                                 62.77      \n",
              "1998-05-01                                                 62.05      \n",
              "\n",
              "               exportacion_volumen_en_toneladas_equivalentes_res_con_hueso  \\\n",
              "indice_tiempo                                                                \n",
              "1998-01-01                                              26785.94             \n",
              "1998-02-01                                              25146.46             \n",
              "1998-03-01                                              24082.90             \n",
              "1998-04-01                                              26138.69             \n",
              "1998-05-01                                              21904.65             \n",
              "\n",
              "               exportacion_valor_en_miles_de_dolares  \\\n",
              "indice_tiempo                                          \n",
              "1998-01-01                                  54865.43   \n",
              "1998-02-01                                  50791.64   \n",
              "1998-03-01                                  50331.92   \n",
              "1998-04-01                                  56388.48   \n",
              "1998-05-01                                  48956.00   \n",
              "\n",
              "               exportacion_por_toneladas_res_con_hueso  \n",
              "indice_tiempo                                           \n",
              "1998-01-01                                     2048.29  \n",
              "1998-02-01                                     2019.83  \n",
              "1998-03-01                                     2089.94  \n",
              "1998-04-01                                     2157.28  \n",
              "1998-05-01                                     2234.96  "
            ],
            "text/html": [
              "\n",
              "  <div id=\"df-4e59f864-50da-497b-9d8a-587e6e1d57b4\">\n",
              "    <div class=\"colab-df-container\">\n",
              "      <div>\n",
              "<style scoped>\n",
              "    .dataframe tbody tr th:only-of-type {\n",
              "        vertical-align: middle;\n",
              "    }\n",
              "\n",
              "    .dataframe tbody tr th {\n",
              "        vertical-align: top;\n",
              "    }\n",
              "\n",
              "    .dataframe thead th {\n",
              "        text-align: right;\n",
              "    }\n",
              "</style>\n",
              "<table border=\"1\" class=\"dataframe\">\n",
              "  <thead>\n",
              "    <tr style=\"text-align: right;\">\n",
              "      <th></th>\n",
              "      <th>faena_total_pais</th>\n",
              "      <th>porcentaje_hembras</th>\n",
              "      <th>produccion_en_miles_de_toneladas_res_con_hueso</th>\n",
              "      <th>peso_promedio_res</th>\n",
              "      <th>novillos_precio_kilo_vivo_pesos</th>\n",
              "      <th>novillo_precio_kilo_vivo_dolares</th>\n",
              "      <th>novillos_peso_kilo_vivo</th>\n",
              "      <th>consumo_interno_aparente_en_miles_de_toneladas_res_c_hueso</th>\n",
              "      <th>consumo_interno_per_capita_kg_por_habitante</th>\n",
              "      <th>consumo_interno_per_capita_kg_por_habitante_por_anio</th>\n",
              "      <th>exportacion_volumen_en_toneladas_equivalentes_res_con_hueso</th>\n",
              "      <th>exportacion_valor_en_miles_de_dolares</th>\n",
              "      <th>exportacion_por_toneladas_res_con_hueso</th>\n",
              "    </tr>\n",
              "    <tr>\n",
              "      <th>indice_tiempo</th>\n",
              "      <th></th>\n",
              "      <th></th>\n",
              "      <th></th>\n",
              "      <th></th>\n",
              "      <th></th>\n",
              "      <th></th>\n",
              "      <th></th>\n",
              "      <th></th>\n",
              "      <th></th>\n",
              "      <th></th>\n",
              "      <th></th>\n",
              "      <th></th>\n",
              "      <th></th>\n",
              "    </tr>\n",
              "  </thead>\n",
              "  <tbody>\n",
              "    <tr>\n",
              "      <th>1998-01-01</th>\n",
              "      <td>981503</td>\n",
              "      <td>41.82</td>\n",
              "      <td>215.20</td>\n",
              "      <td>219.25</td>\n",
              "      <td>1.00</td>\n",
              "      <td>1.00</td>\n",
              "      <td>448.0</td>\n",
              "      <td>191.23</td>\n",
              "      <td>62.79</td>\n",
              "      <td>64.11</td>\n",
              "      <td>26785.94</td>\n",
              "      <td>54865.43</td>\n",
              "      <td>2048.29</td>\n",
              "    </tr>\n",
              "    <tr>\n",
              "      <th>1998-02-01</th>\n",
              "      <td>889530</td>\n",
              "      <td>43.02</td>\n",
              "      <td>191.89</td>\n",
              "      <td>215.72</td>\n",
              "      <td>1.07</td>\n",
              "      <td>1.07</td>\n",
              "      <td>447.0</td>\n",
              "      <td>169.56</td>\n",
              "      <td>61.58</td>\n",
              "      <td>63.85</td>\n",
              "      <td>25146.46</td>\n",
              "      <td>50791.64</td>\n",
              "      <td>2019.83</td>\n",
              "    </tr>\n",
              "    <tr>\n",
              "      <th>1998-03-01</th>\n",
              "      <td>992968</td>\n",
              "      <td>43.24</td>\n",
              "      <td>211.44</td>\n",
              "      <td>212.94</td>\n",
              "      <td>1.09</td>\n",
              "      <td>1.09</td>\n",
              "      <td>441.0</td>\n",
              "      <td>190.18</td>\n",
              "      <td>62.32</td>\n",
              "      <td>63.80</td>\n",
              "      <td>24082.90</td>\n",
              "      <td>50331.92</td>\n",
              "      <td>2089.94</td>\n",
              "    </tr>\n",
              "    <tr>\n",
              "      <th>1998-04-01</th>\n",
              "      <td>936164</td>\n",
              "      <td>42.03</td>\n",
              "      <td>200.01</td>\n",
              "      <td>213.65</td>\n",
              "      <td>1.11</td>\n",
              "      <td>1.11</td>\n",
              "      <td>441.0</td>\n",
              "      <td>176.69</td>\n",
              "      <td>59.78</td>\n",
              "      <td>62.77</td>\n",
              "      <td>26138.69</td>\n",
              "      <td>56388.48</td>\n",
              "      <td>2157.28</td>\n",
              "    </tr>\n",
              "    <tr>\n",
              "      <th>1998-05-01</th>\n",
              "      <td>912879</td>\n",
              "      <td>42.83</td>\n",
              "      <td>193.45</td>\n",
              "      <td>211.91</td>\n",
              "      <td>1.14</td>\n",
              "      <td>1.14</td>\n",
              "      <td>440.0</td>\n",
              "      <td>174.36</td>\n",
              "      <td>57.04</td>\n",
              "      <td>62.05</td>\n",
              "      <td>21904.65</td>\n",
              "      <td>48956.00</td>\n",
              "      <td>2234.96</td>\n",
              "    </tr>\n",
              "  </tbody>\n",
              "</table>\n",
              "</div>\n",
              "      <button class=\"colab-df-convert\" onclick=\"convertToInteractive('df-4e59f864-50da-497b-9d8a-587e6e1d57b4')\"\n",
              "              title=\"Convert this dataframe to an interactive table.\"\n",
              "              style=\"display:none;\">\n",
              "        \n",
              "  <svg xmlns=\"http://www.w3.org/2000/svg\" height=\"24px\"viewBox=\"0 0 24 24\"\n",
              "       width=\"24px\">\n",
              "    <path d=\"M0 0h24v24H0V0z\" fill=\"none\"/>\n",
              "    <path d=\"M18.56 5.44l.94 2.06.94-2.06 2.06-.94-2.06-.94-.94-2.06-.94 2.06-2.06.94zm-11 1L8.5 8.5l.94-2.06 2.06-.94-2.06-.94L8.5 2.5l-.94 2.06-2.06.94zm10 10l.94 2.06.94-2.06 2.06-.94-2.06-.94-.94-2.06-.94 2.06-2.06.94z\"/><path d=\"M17.41 7.96l-1.37-1.37c-.4-.4-.92-.59-1.43-.59-.52 0-1.04.2-1.43.59L10.3 9.45l-7.72 7.72c-.78.78-.78 2.05 0 2.83L4 21.41c.39.39.9.59 1.41.59.51 0 1.02-.2 1.41-.59l7.78-7.78 2.81-2.81c.8-.78.8-2.07 0-2.86zM5.41 20L4 18.59l7.72-7.72 1.47 1.35L5.41 20z\"/>\n",
              "  </svg>\n",
              "      </button>\n",
              "      \n",
              "  <style>\n",
              "    .colab-df-container {\n",
              "      display:flex;\n",
              "      flex-wrap:wrap;\n",
              "      gap: 12px;\n",
              "    }\n",
              "\n",
              "    .colab-df-convert {\n",
              "      background-color: #E8F0FE;\n",
              "      border: none;\n",
              "      border-radius: 50%;\n",
              "      cursor: pointer;\n",
              "      display: none;\n",
              "      fill: #1967D2;\n",
              "      height: 32px;\n",
              "      padding: 0 0 0 0;\n",
              "      width: 32px;\n",
              "    }\n",
              "\n",
              "    .colab-df-convert:hover {\n",
              "      background-color: #E2EBFA;\n",
              "      box-shadow: 0px 1px 2px rgba(60, 64, 67, 0.3), 0px 1px 3px 1px rgba(60, 64, 67, 0.15);\n",
              "      fill: #174EA6;\n",
              "    }\n",
              "\n",
              "    [theme=dark] .colab-df-convert {\n",
              "      background-color: #3B4455;\n",
              "      fill: #D2E3FC;\n",
              "    }\n",
              "\n",
              "    [theme=dark] .colab-df-convert:hover {\n",
              "      background-color: #434B5C;\n",
              "      box-shadow: 0px 1px 3px 1px rgba(0, 0, 0, 0.15);\n",
              "      filter: drop-shadow(0px 1px 2px rgba(0, 0, 0, 0.3));\n",
              "      fill: #FFFFFF;\n",
              "    }\n",
              "  </style>\n",
              "\n",
              "      <script>\n",
              "        const buttonEl =\n",
              "          document.querySelector('#df-4e59f864-50da-497b-9d8a-587e6e1d57b4 button.colab-df-convert');\n",
              "        buttonEl.style.display =\n",
              "          google.colab.kernel.accessAllowed ? 'block' : 'none';\n",
              "\n",
              "        async function convertToInteractive(key) {\n",
              "          const element = document.querySelector('#df-4e59f864-50da-497b-9d8a-587e6e1d57b4');\n",
              "          const dataTable =\n",
              "            await google.colab.kernel.invokeFunction('convertToInteractive',\n",
              "                                                     [key], {});\n",
              "          if (!dataTable) return;\n",
              "\n",
              "          const docLinkHtml = 'Like what you see? Visit the ' +\n",
              "            '<a target=\"_blank\" href=https://colab.research.google.com/notebooks/data_table.ipynb>data table notebook</a>'\n",
              "            + ' to learn more about interactive tables.';\n",
              "          element.innerHTML = '';\n",
              "          dataTable['output_type'] = 'display_data';\n",
              "          await google.colab.output.renderOutput(dataTable, element);\n",
              "          const docLink = document.createElement('div');\n",
              "          docLink.innerHTML = docLinkHtml;\n",
              "          element.appendChild(docLink);\n",
              "        }\n",
              "      </script>\n",
              "    </div>\n",
              "  </div>\n",
              "  "
            ]
          },
          "metadata": {},
          "execution_count": 3
        }
      ]
    },
    {
      "cell_type": "code",
      "source": [
        "serie=serie.drop(['novillos_precio_kilo_vivo_pesos','novillo_precio_kilo_vivo_dolares','novillos_peso_kilo_vivo','faena_total_pais','porcentaje_hembras','produccion_en_miles_de_toneladas_res_con_hueso','peso_promedio_res','consumo_interno_aparente_en_miles_de_toneladas_res_c_hueso','consumo_interno_per_capita_kg_por_habitante_por_anio','exportacion_volumen_en_toneladas_equivalentes_res_con_hueso','exportacion_valor_en_miles_de_dolares'], axis=1)  \n"
      ],
      "metadata": {
        "id": "C3GjMa7u-jSr"
      },
      "execution_count": null,
      "outputs": []
    },
    {
      "cell_type": "code",
      "source": [
        "serie.head()   "
      ],
      "metadata": {
        "colab": {
          "base_uri": "https://localhost:8080/",
          "height": 237
        },
        "id": "k-i93ZUv_FoB",
        "outputId": "7f4bd56f-e5ab-4ca5-c8e5-884e4719e7e9"
      },
      "execution_count": null,
      "outputs": [
        {
          "output_type": "execute_result",
          "data": {
            "text/plain": [
              "               consumo_interno_per_capita_kg_por_habitante  \\\n",
              "indice_tiempo                                                \n",
              "1998-01-01                                           62.79   \n",
              "1998-02-01                                           61.58   \n",
              "1998-03-01                                           62.32   \n",
              "1998-04-01                                           59.78   \n",
              "1998-05-01                                           57.04   \n",
              "\n",
              "               exportacion_por_toneladas_res_con_hueso  \n",
              "indice_tiempo                                           \n",
              "1998-01-01                                     2048.29  \n",
              "1998-02-01                                     2019.83  \n",
              "1998-03-01                                     2089.94  \n",
              "1998-04-01                                     2157.28  \n",
              "1998-05-01                                     2234.96  "
            ],
            "text/html": [
              "\n",
              "  <div id=\"df-755e3de7-fb53-4e18-b493-4b9646a0dd4b\">\n",
              "    <div class=\"colab-df-container\">\n",
              "      <div>\n",
              "<style scoped>\n",
              "    .dataframe tbody tr th:only-of-type {\n",
              "        vertical-align: middle;\n",
              "    }\n",
              "\n",
              "    .dataframe tbody tr th {\n",
              "        vertical-align: top;\n",
              "    }\n",
              "\n",
              "    .dataframe thead th {\n",
              "        text-align: right;\n",
              "    }\n",
              "</style>\n",
              "<table border=\"1\" class=\"dataframe\">\n",
              "  <thead>\n",
              "    <tr style=\"text-align: right;\">\n",
              "      <th></th>\n",
              "      <th>consumo_interno_per_capita_kg_por_habitante</th>\n",
              "      <th>exportacion_por_toneladas_res_con_hueso</th>\n",
              "    </tr>\n",
              "    <tr>\n",
              "      <th>indice_tiempo</th>\n",
              "      <th></th>\n",
              "      <th></th>\n",
              "    </tr>\n",
              "  </thead>\n",
              "  <tbody>\n",
              "    <tr>\n",
              "      <th>1998-01-01</th>\n",
              "      <td>62.79</td>\n",
              "      <td>2048.29</td>\n",
              "    </tr>\n",
              "    <tr>\n",
              "      <th>1998-02-01</th>\n",
              "      <td>61.58</td>\n",
              "      <td>2019.83</td>\n",
              "    </tr>\n",
              "    <tr>\n",
              "      <th>1998-03-01</th>\n",
              "      <td>62.32</td>\n",
              "      <td>2089.94</td>\n",
              "    </tr>\n",
              "    <tr>\n",
              "      <th>1998-04-01</th>\n",
              "      <td>59.78</td>\n",
              "      <td>2157.28</td>\n",
              "    </tr>\n",
              "    <tr>\n",
              "      <th>1998-05-01</th>\n",
              "      <td>57.04</td>\n",
              "      <td>2234.96</td>\n",
              "    </tr>\n",
              "  </tbody>\n",
              "</table>\n",
              "</div>\n",
              "      <button class=\"colab-df-convert\" onclick=\"convertToInteractive('df-755e3de7-fb53-4e18-b493-4b9646a0dd4b')\"\n",
              "              title=\"Convert this dataframe to an interactive table.\"\n",
              "              style=\"display:none;\">\n",
              "        \n",
              "  <svg xmlns=\"http://www.w3.org/2000/svg\" height=\"24px\"viewBox=\"0 0 24 24\"\n",
              "       width=\"24px\">\n",
              "    <path d=\"M0 0h24v24H0V0z\" fill=\"none\"/>\n",
              "    <path d=\"M18.56 5.44l.94 2.06.94-2.06 2.06-.94-2.06-.94-.94-2.06-.94 2.06-2.06.94zm-11 1L8.5 8.5l.94-2.06 2.06-.94-2.06-.94L8.5 2.5l-.94 2.06-2.06.94zm10 10l.94 2.06.94-2.06 2.06-.94-2.06-.94-.94-2.06-.94 2.06-2.06.94z\"/><path d=\"M17.41 7.96l-1.37-1.37c-.4-.4-.92-.59-1.43-.59-.52 0-1.04.2-1.43.59L10.3 9.45l-7.72 7.72c-.78.78-.78 2.05 0 2.83L4 21.41c.39.39.9.59 1.41.59.51 0 1.02-.2 1.41-.59l7.78-7.78 2.81-2.81c.8-.78.8-2.07 0-2.86zM5.41 20L4 18.59l7.72-7.72 1.47 1.35L5.41 20z\"/>\n",
              "  </svg>\n",
              "      </button>\n",
              "      \n",
              "  <style>\n",
              "    .colab-df-container {\n",
              "      display:flex;\n",
              "      flex-wrap:wrap;\n",
              "      gap: 12px;\n",
              "    }\n",
              "\n",
              "    .colab-df-convert {\n",
              "      background-color: #E8F0FE;\n",
              "      border: none;\n",
              "      border-radius: 50%;\n",
              "      cursor: pointer;\n",
              "      display: none;\n",
              "      fill: #1967D2;\n",
              "      height: 32px;\n",
              "      padding: 0 0 0 0;\n",
              "      width: 32px;\n",
              "    }\n",
              "\n",
              "    .colab-df-convert:hover {\n",
              "      background-color: #E2EBFA;\n",
              "      box-shadow: 0px 1px 2px rgba(60, 64, 67, 0.3), 0px 1px 3px 1px rgba(60, 64, 67, 0.15);\n",
              "      fill: #174EA6;\n",
              "    }\n",
              "\n",
              "    [theme=dark] .colab-df-convert {\n",
              "      background-color: #3B4455;\n",
              "      fill: #D2E3FC;\n",
              "    }\n",
              "\n",
              "    [theme=dark] .colab-df-convert:hover {\n",
              "      background-color: #434B5C;\n",
              "      box-shadow: 0px 1px 3px 1px rgba(0, 0, 0, 0.15);\n",
              "      filter: drop-shadow(0px 1px 2px rgba(0, 0, 0, 0.3));\n",
              "      fill: #FFFFFF;\n",
              "    }\n",
              "  </style>\n",
              "\n",
              "      <script>\n",
              "        const buttonEl =\n",
              "          document.querySelector('#df-755e3de7-fb53-4e18-b493-4b9646a0dd4b button.colab-df-convert');\n",
              "        buttonEl.style.display =\n",
              "          google.colab.kernel.accessAllowed ? 'block' : 'none';\n",
              "\n",
              "        async function convertToInteractive(key) {\n",
              "          const element = document.querySelector('#df-755e3de7-fb53-4e18-b493-4b9646a0dd4b');\n",
              "          const dataTable =\n",
              "            await google.colab.kernel.invokeFunction('convertToInteractive',\n",
              "                                                     [key], {});\n",
              "          if (!dataTable) return;\n",
              "\n",
              "          const docLinkHtml = 'Like what you see? Visit the ' +\n",
              "            '<a target=\"_blank\" href=https://colab.research.google.com/notebooks/data_table.ipynb>data table notebook</a>'\n",
              "            + ' to learn more about interactive tables.';\n",
              "          element.innerHTML = '';\n",
              "          dataTable['output_type'] = 'display_data';\n",
              "          await google.colab.output.renderOutput(dataTable, element);\n",
              "          const docLink = document.createElement('div');\n",
              "          docLink.innerHTML = docLinkHtml;\n",
              "          element.appendChild(docLink);\n",
              "        }\n",
              "      </script>\n",
              "    </div>\n",
              "  </div>\n",
              "  "
            ]
          },
          "metadata": {},
          "execution_count": 5
        }
      ]
    },
    {
      "cell_type": "code",
      "source": [
        "fig = plt.figure()\n",
        "serie.plot(subplots=True, layout=(2,1))\n",
        "plt.legend()\n",
        "plt.tight_layout()\n",
        "plt.show()"
      ],
      "metadata": {
        "colab": {
          "base_uri": "https://localhost:8080/",
          "height": 314
        },
        "id": "ma1DmBinmjaR",
        "outputId": "576eb231-7539-4cc3-fbcd-16a4c59864c6"
      },
      "execution_count": null,
      "outputs": [
        {
          "output_type": "display_data",
          "data": {
            "text/plain": [
              "<Figure size 432x288 with 0 Axes>"
            ]
          },
          "metadata": {}
        },
        {
          "output_type": "display_data",
          "data": {
            "text/plain": [
              "<Figure size 432x288 with 2 Axes>"
            ],
            "image/png": "[encoded data removed]"
          },
          "metadata": {
            "needs_background": "light"
          }
        }
      ]
    },
    {
      "cell_type": "markdown",
      "source": [
        "Dado que se trata de datos de series temporales, es probable que las noticias del mes anterior sobre el consumo interno por capita por habitante afecten las exportaciones. Como tal, es necesario incluir rezagos de X en la regresión."
      ],
      "metadata": {
        "id": "diPNxn2EFZcc"
      }
    },
    {
      "cell_type": "markdown",
      "source": [
        "A continuación, presentamos las estimaciones de OLS de los coeficientes en un modelo de rezago distribuido en el que se permite que la exportacion_por_toneladas_res_con_hueso dependa de el consumo interno per capita (kg por habitantelas) hasta qmax=3 <br> export por toneladas = α +β0⋅consumo interno + β1⋅ consumo interno t−1 + β2⋅ consumo interno t−2 + β3⋅ consumo interno t−3 +ϵt "
      ],
      "metadata": {
        "id": "6XM7ef-kGnhv"
      }
    },
    {
      "cell_type": "code",
      "source": [
        "def lag(x, n):\n",
        "    if n == 0:\n",
        "        return x\n",
        "    if isinstance(x, pd.Series):\n",
        "        return x.shift(n) \n",
        "    else:\n",
        "        x = pd.Series(x)\n",
        "        return x.shift(n) \n",
        "\n",
        "    x = x.copy()\n",
        "    x[n:] = x[0:-n]\n",
        "    x[:n] = np.nan\n",
        "    return x"
      ],
      "metadata": {
        "id": "l1rX8YHh0rFJ"
      },
      "execution_count": null,
      "outputs": []
    },
    {
      "cell_type": "code",
      "source": [
        "mod_L1_est = smf.ols(formula = 'exportacion_por_toneladas_res_con_hueso ~ 1 + lag(consumo_interno_per_capita_kg_por_habitante, 0) +  lag(consumo_interno_per_capita_kg_por_habitante, 1) +  lag(consumo_interno_per_capita_kg_por_habitante, 2) + lag(consumo_interno_per_capita_kg_por_habitante, 3) ', data = serie)     \n",
        "mod_L1_fit = mod_L1_est.fit()\n",
        "print(mod_L1_fit.summary())"
      ],
      "metadata": {
        "colab": {
          "base_uri": "https://localhost:8080/"
        },
        "id": "_09mvmmr_bBt",
        "outputId": "fc44fd25-25f0-42a6-96bb-e1c3c8b2feb2"
      },
      "execution_count": null,
      "outputs": [
        {
          "output_type": "stream",
          "name": "stdout",
          "text": [
            "                                       OLS Regression Results                                      \n",
            "===================================================================================================\n",
            "Dep. Variable:     exportacion_por_toneladas_res_con_hueso   R-squared:                       0.210\n",
            "Model:                                                 OLS   Adj. R-squared:                  0.197\n",
            "Method:                                      Least Squares   F-statistic:                     16.71\n",
            "Date:                                     Sat, 23 Jul 2022   Prob (F-statistic):           3.69e-12\n",
            "Time:                                             15:32:21   Log-Likelihood:                -2208.2\n",
            "No. Observations:                                      257   AIC:                             4426.\n",
            "Df Residuals:                                          252   BIC:                             4444.\n",
            "Df Model:                                                4                                         \n",
            "Covariance Type:                                 nonrobust                                         \n",
            "=======================================================================================================================\n",
            "                                                          coef    std err          t      P>|t|      [0.025      0.975]\n",
            "-----------------------------------------------------------------------------------------------------------------------\n",
            "Intercept                                            1.205e+04   1104.111     10.914      0.000    9875.765    1.42e+04\n",
            "lag(consumo_interno_per_capita_kg_por_habitante, 0)   -17.8691     19.729     -0.906      0.366     -56.724      20.986\n",
            "lag(consumo_interno_per_capita_kg_por_habitante, 1)   -24.4474     17.798     -1.374      0.171     -59.500      10.605\n",
            "lag(consumo_interno_per_capita_kg_por_habitante, 2)   -56.9630     17.882     -3.186      0.002     -92.180     -21.746\n",
            "lag(consumo_interno_per_capita_kg_por_habitante, 3)   -46.7807     19.976     -2.342      0.020     -86.121      -7.440\n",
            "==============================================================================\n",
            "Omnibus:                       17.451   Durbin-Watson:                   0.069\n",
            "Prob(Omnibus):                  0.000   Jarque-Bera (JB):                6.823\n",
            "Skew:                           0.073   Prob(JB):                       0.0330\n",
            "Kurtosis:                       2.215   Cond. No.                     1.64e+03\n",
            "==============================================================================\n",
            "\n",
            "Warnings:\n",
            "[1] Standard Errors assume that the covariance matrix of the errors is correctly specified.\n",
            "[2] The condition number is large, 1.64e+03. This might indicate that there are\n",
            "strong multicollinearity or other numerical problems.\n"
          ]
        }
      ]
    },
    {
      "cell_type": "markdown",
      "source": [
        "Dado que el valor p correspondiente a la variable explicativa consumo en t0 y t-1 es mayor que 0,05, no podemos rechazar la hipótesis nula al nivel de significación del 5%. En consecuencia, eliminamos estas variables del modelo y volvemos a estimar el modelo considerando estas observaciones, lo que arroja los siguientes resultados:"
      ],
      "metadata": {
        "id": "CZw-tZp2J8Ig"
      }
    },
    {
      "cell_type": "code",
      "source": [
        "mod_L2_est = smf.ols(formula = 'exportacion_por_toneladas_res_con_hueso ~ 1 + lag(consumo_interno_per_capita_kg_por_habitante, 2) + lag(consumo_interno_per_capita_kg_por_habitante, 3)', data = serie)     \n",
        "mod_L2_fit = mod_L2_est.fit()\n",
        "print(mod_L2_fit.summary())"
      ],
      "metadata": {
        "colab": {
          "base_uri": "https://localhost:8080/"
        },
        "id": "S3dsJaAg0t0o",
        "outputId": "cccbce70-f0ef-4a80-fe87-ed7f58ac7f49"
      },
      "execution_count": null,
      "outputs": [
        {
          "output_type": "stream",
          "name": "stdout",
          "text": [
            "                                       OLS Regression Results                                      \n",
            "===================================================================================================\n",
            "Dep. Variable:     exportacion_por_toneladas_res_con_hueso   R-squared:                       0.200\n",
            "Model:                                                 OLS   Adj. R-squared:                  0.194\n",
            "Method:                                      Least Squares   F-statistic:                     31.78\n",
            "Date:                                     Sat, 23 Jul 2022   Prob (F-statistic):           4.79e-13\n",
            "Time:                                             15:33:28   Log-Likelihood:                -2209.7\n",
            "No. Observations:                                      257   AIC:                             4425.\n",
            "Df Residuals:                                          254   BIC:                             4436.\n",
            "Df Model:                                                2                                         \n",
            "Covariance Type:                                 nonrobust                                         \n",
            "=======================================================================================================================\n",
            "                                                          coef    std err          t      P>|t|      [0.025      0.975]\n",
            "-----------------------------------------------------------------------------------------------------------------------\n",
            "Intercept                                            1.137e+04   1034.004     10.996      0.000    9333.833    1.34e+04\n",
            "lag(consumo_interno_per_capita_kg_por_habitante, 2)   -69.3878     16.248     -4.271      0.000    -101.385     -37.391\n",
            "lag(consumo_interno_per_capita_kg_por_habitante, 3)   -65.4613     16.413     -3.988      0.000     -97.784     -33.139\n",
            "==============================================================================\n",
            "Omnibus:                       19.939   Durbin-Watson:                   0.089\n",
            "Prob(Omnibus):                  0.000   Jarque-Bera (JB):                7.361\n",
            "Skew:                           0.080   Prob(JB):                       0.0252\n",
            "Kurtosis:                       2.186   Cond. No.                     1.09e+03\n",
            "==============================================================================\n",
            "\n",
            "Warnings:\n",
            "[1] Standard Errors assume that the covariance matrix of the errors is correctly specified.\n",
            "[2] The condition number is large, 1.09e+03. This might indicate that there are\n",
            "strong multicollinearity or other numerical problems.\n"
          ]
        }
      ]
    },
    {
      "cell_type": "code",
      "source": [
        "print(np.round(mod_L2_fit.params, 2))\n",
        "print(np.round(mod_L2_fit.pvalues, 4))"
      ],
      "metadata": {
        "colab": {
          "base_uri": "https://localhost:8080/"
        },
        "id": "G2-h2PVS2X_b",
        "outputId": "304e80aa-947b-4fa4-aedc-00db5c4587e0"
      },
      "execution_count": null,
      "outputs": [
        {
          "output_type": "stream",
          "name": "stdout",
          "text": [
            "Intercept                                              11370.15\n",
            "lag(consumo_interno_per_capita_kg_por_habitante, 2)      -69.39\n",
            "lag(consumo_interno_per_capita_kg_por_habitante, 3)      -65.46\n",
            "dtype: float64\n",
            "Intercept                                              0.0000\n",
            "lag(consumo_interno_per_capita_kg_por_habitante, 2)    0.0000\n",
            "lag(consumo_interno_per_capita_kg_por_habitante, 3)    0.0001\n",
            "dtype: float64\n"
          ]
        }
      ]
    },
    {
      "cell_type": "markdown",
      "source": [
        "La ecuacion resultante es la siguiente =\n",
        "\n",
        "exportacion_precio_dolares_por_toneladas_res_con_hueso t = 11370.15 - 69.39 consumo_interno_per_capita_kg_por_habitante t-2   -  65.46 consumo_interno_per_capita_kg_por_habitante t-3"
      ],
      "metadata": {
        "id": "fB2LD4lZ9ET0"
      }
    },
    {
      "cell_type": "markdown",
      "source": [
        "La interpretación es : aumentar el consumo interno de carne en 1 en un mes determinado t está asociado con: <br> Una reducción inmediata en la exportacion_por_toneladas_res_con_hueso de 69.39 dos meses despues;  <br>\n",
        "Una reducción inmediata en la exportacion_por_toneladas_res_con_hueso de 65.46 tres meses despues;"
      ],
      "metadata": {
        "id": "3-EazdVLMldN"
      }
    }
  ]
}